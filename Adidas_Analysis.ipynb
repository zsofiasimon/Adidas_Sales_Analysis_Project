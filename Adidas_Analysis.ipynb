{
 "cells": [
  {
   "cell_type": "code",
   "id": "initial_id",
   "metadata": {
    "collapsed": true,
    "ExecuteTime": {
     "end_time": "2025-08-28T16:52:22.163794Z",
     "start_time": "2025-08-28T16:52:21.653847Z"
    }
   },
   "source": [
    "import matplotlib.pyplot as plt\n",
    "import seaborn as sns\n",
    "import pandas as pd\n",
    "\n",
    "df = pd.read_excel(\"data/raw/Adidas US Sales Datasets.xlsx\")\n",
    "print(df.head())\n",
    "print(df.tail())"
   ],
   "outputs": [
    {
     "name": "stdout",
     "output_type": "stream",
     "text": [
      "   Unnamed: 0   Unnamed: 1             Unnamed: 2           Unnamed: 3  \\\n",
      "0         NaN          NaN  Adidas Sales Database                  NaN   \n",
      "1         NaN          NaN                    NaN                  NaN   \n",
      "2         NaN          NaN                    NaN                  NaN   \n",
      "3         NaN     Retailer            Retailer ID         Invoice Date   \n",
      "4         NaN  Foot Locker                1185732  2020-01-01 00:00:00   \n",
      "\n",
      "  Unnamed: 4 Unnamed: 5 Unnamed: 6             Unnamed: 7      Unnamed: 8  \\\n",
      "0        NaN        NaN        NaN                    NaN             NaN   \n",
      "1        NaN        NaN        NaN                    NaN             NaN   \n",
      "2        NaN        NaN        NaN                    NaN             NaN   \n",
      "3     Region      State       City                Product  Price per Unit   \n",
      "4  Northeast   New York   New York  Men's Street Footwear              50   \n",
      "\n",
      "   Unnamed: 9  Unnamed: 10       Unnamed: 11       Unnamed: 12   Unnamed: 13  \n",
      "0         NaN          NaN               NaN               NaN           NaN  \n",
      "1         NaN          NaN               NaN               NaN           NaN  \n",
      "2         NaN          NaN               NaN               NaN           NaN  \n",
      "3  Units Sold  Total Sales  Operating Profit  Operating Margin  Sales Method  \n",
      "4        1200       600000            300000               0.5      In-store  \n",
      "      Unnamed: 0   Unnamed: 1 Unnamed: 2           Unnamed: 3 Unnamed: 4  \\\n",
      "9647         NaN  Foot Locker    1185732  2021-01-24 00:00:00  Northeast   \n",
      "9648         NaN  Foot Locker    1185732  2021-01-24 00:00:00  Northeast   \n",
      "9649         NaN  Foot Locker    1185732  2021-02-22 00:00:00  Northeast   \n",
      "9650         NaN  Foot Locker    1185732  2021-02-22 00:00:00  Northeast   \n",
      "9651         NaN  Foot Locker    1185732  2021-02-22 00:00:00  Northeast   \n",
      "\n",
      "         Unnamed: 5  Unnamed: 6               Unnamed: 7 Unnamed: 8  \\\n",
      "9647  New Hampshire  Manchester            Men's Apparel         50   \n",
      "9648  New Hampshire  Manchester          Women's Apparel         41   \n",
      "9649  New Hampshire  Manchester    Men's Street Footwear         41   \n",
      "9650  New Hampshire  Manchester  Men's Athletic Footwear         42   \n",
      "9651  New Hampshire  Manchester  Women's Street Footwear         29   \n",
      "\n",
      "     Unnamed: 9 Unnamed: 10 Unnamed: 11 Unnamed: 12 Unnamed: 13  \n",
      "9647         64        3200       896.0        0.28      Outlet  \n",
      "9648        105        4305      1377.6        0.32      Outlet  \n",
      "9649        184        7544     2791.28        0.37      Outlet  \n",
      "9650         70        2940      1234.8        0.42      Outlet  \n",
      "9651         83        2407      649.89        0.27      Outlet  \n"
     ]
    }
   ],
   "execution_count": 51
  },
  {
   "metadata": {
    "ExecuteTime": {
     "end_time": "2025-08-28T16:52:22.195358Z",
     "start_time": "2025-08-28T16:52:22.178240Z"
    }
   },
   "cell_type": "code",
   "source": [
    "print('Shape:\\n', df.shape, '\\n')\n",
    "print('Columns:\\n', df.columns, '\\n')\n",
    "print('Info:\\n', df.info(), '\\n')\n",
    "print('Describe:\\n', df.describe(), '\\n')\n",
    "print('Nulls:\\n', df.isna().sum(), '\\n')\n",
    "print('Duplicates:\\n', df.duplicated().sum(), '\\n')"
   ],
   "id": "2733b8be487b3937",
   "outputs": [
    {
     "name": "stdout",
     "output_type": "stream",
     "text": [
      "Shape:\n",
      " (9652, 14) \n",
      "\n",
      "Columns:\n",
      " Index(['Unnamed: 0', 'Unnamed: 1', 'Unnamed: 2', 'Unnamed: 3', 'Unnamed: 4',\n",
      "       'Unnamed: 5', 'Unnamed: 6', 'Unnamed: 7', 'Unnamed: 8', 'Unnamed: 9',\n",
      "       'Unnamed: 10', 'Unnamed: 11', 'Unnamed: 12', 'Unnamed: 13'],\n",
      "      dtype='object') \n",
      "\n",
      "<class 'pandas.core.frame.DataFrame'>\n",
      "RangeIndex: 9652 entries, 0 to 9651\n",
      "Data columns (total 14 columns):\n",
      " #   Column       Non-Null Count  Dtype  \n",
      "---  ------       --------------  -----  \n",
      " 0   Unnamed: 0   0 non-null      float64\n",
      " 1   Unnamed: 1   9649 non-null   object \n",
      " 2   Unnamed: 2   9650 non-null   object \n",
      " 3   Unnamed: 3   9649 non-null   object \n",
      " 4   Unnamed: 4   9649 non-null   object \n",
      " 5   Unnamed: 5   9649 non-null   object \n",
      " 6   Unnamed: 6   9649 non-null   object \n",
      " 7   Unnamed: 7   9649 non-null   object \n",
      " 8   Unnamed: 8   9649 non-null   object \n",
      " 9   Unnamed: 9   9649 non-null   object \n",
      " 10  Unnamed: 10  9649 non-null   object \n",
      " 11  Unnamed: 11  9649 non-null   object \n",
      " 12  Unnamed: 12  9649 non-null   object \n",
      " 13  Unnamed: 13  9649 non-null   object \n",
      "dtypes: float64(1), object(13)\n",
      "memory usage: 1.0+ MB\n",
      "Info:\n",
      " None \n",
      "\n",
      "Describe:\n",
      "        Unnamed: 0\n",
      "count         0.0\n",
      "mean          NaN\n",
      "std           NaN\n",
      "min           NaN\n",
      "25%           NaN\n",
      "50%           NaN\n",
      "75%           NaN\n",
      "max           NaN \n",
      "\n",
      "Nulls:\n",
      " Unnamed: 0     9652\n",
      "Unnamed: 1        3\n",
      "Unnamed: 2        2\n",
      "Unnamed: 3        3\n",
      "Unnamed: 4        3\n",
      "Unnamed: 5        3\n",
      "Unnamed: 6        3\n",
      "Unnamed: 7        3\n",
      "Unnamed: 8        3\n",
      "Unnamed: 9        3\n",
      "Unnamed: 10       3\n",
      "Unnamed: 11       3\n",
      "Unnamed: 12       3\n",
      "Unnamed: 13       3\n",
      "dtype: int64 \n",
      "\n",
      "Duplicates:\n",
      " 1 \n",
      "\n"
     ]
    }
   ],
   "execution_count": 52
  },
  {
   "metadata": {
    "ExecuteTime": {
     "end_time": "2025-08-28T16:52:22.815550Z",
     "start_time": "2025-08-28T16:52:22.203147Z"
    }
   },
   "cell_type": "code",
   "source": [
    "df_raw = pd.read_excel(\"data/raw/Adidas US Sales Datasets.xlsx\")\n",
    "\n",
    "df = df_raw.drop(index=[0,1,2]).reset_index(drop=True)\n",
    "\n",
    "df.columns = df.iloc[0]\n",
    "df = df[1:].reset_index(drop=True)\n",
    "df = df.drop(df.columns[0], axis=1)\n",
    "\n",
    "print('Shape:\\n', df.shape, '\\n')\n",
    "print('Columns:\\n', df.columns, '\\n')\n",
    "print('Info:\\n', df.info(), '\\n')\n",
    "print('Describe:\\n', df.describe(), '\\n')\n",
    "print('Nulls:\\n', df.isna().sum(), '\\n')\n",
    "print('Duplicates:\\n', df.duplicated().sum(), '\\n')"
   ],
   "id": "44d2ee800865521d",
   "outputs": [
    {
     "name": "stdout",
     "output_type": "stream",
     "text": [
      "Shape:\n",
      " (9648, 13) \n",
      "\n",
      "Columns:\n",
      " Index(['Retailer', 'Retailer ID', 'Invoice Date', 'Region', 'State', 'City',\n",
      "       'Product', 'Price per Unit', 'Units Sold', 'Total Sales',\n",
      "       'Operating Profit', 'Operating Margin', 'Sales Method'],\n",
      "      dtype='object', name=0) \n",
      "\n",
      "<class 'pandas.core.frame.DataFrame'>\n",
      "RangeIndex: 9648 entries, 0 to 9647\n",
      "Data columns (total 13 columns):\n",
      " #   Column            Non-Null Count  Dtype \n",
      "---  ------            --------------  ----- \n",
      " 0   Retailer          9648 non-null   object\n",
      " 1   Retailer ID       9648 non-null   object\n",
      " 2   Invoice Date      9648 non-null   object\n",
      " 3   Region            9648 non-null   object\n",
      " 4   State             9648 non-null   object\n",
      " 5   City              9648 non-null   object\n",
      " 6   Product           9648 non-null   object\n",
      " 7   Price per Unit    9648 non-null   object\n",
      " 8   Units Sold        9648 non-null   object\n",
      " 9   Total Sales       9648 non-null   object\n",
      " 10  Operating Profit  9648 non-null   object\n",
      " 11  Operating Margin  9648 non-null   object\n",
      " 12  Sales Method      9648 non-null   object\n",
      "dtypes: object(13)\n",
      "memory usage: 980.0+ KB\n",
      "Info:\n",
      " None \n",
      "\n",
      "Describe:\n",
      " 0          Retailer  Retailer ID         Invoice Date Region       State  \\\n",
      "count          9648         9648                 9648   9648        9648   \n",
      "unique            6            4                  724      5          50   \n",
      "top     Foot Locker      1185732  2021-01-17 00:00:00   West  California   \n",
      "freq           2637         5265                   77   2448         432   \n",
      "\n",
      "0           City                Product  Price per Unit  Units Sold  \\\n",
      "count       9648                   9648            9648        9648   \n",
      "unique        52                      6             146         361   \n",
      "top     Portland  Men's Street Footwear              50         225   \n",
      "freq         360                   1610             557         207   \n",
      "\n",
      "0       Total Sales  Operating Profit  Operating Margin Sales Method  \n",
      "count          9648              9648           9648.00         9648  \n",
      "unique         3512              6510            127.00            3  \n",
      "top          100000             21000              0.35       Online  \n",
      "freq             52                34           1229.00         4889   \n",
      "\n",
      "Nulls:\n",
      " 0\n",
      "Retailer            0\n",
      "Retailer ID         0\n",
      "Invoice Date        0\n",
      "Region              0\n",
      "State               0\n",
      "City                0\n",
      "Product             0\n",
      "Price per Unit      0\n",
      "Units Sold          0\n",
      "Total Sales         0\n",
      "Operating Profit    0\n",
      "Operating Margin    0\n",
      "Sales Method        0\n",
      "dtype: int64 \n",
      "\n",
      "Duplicates:\n",
      " 0 \n",
      "\n"
     ]
    },
    {
     "name": "stderr",
     "output_type": "stream",
     "text": [
      "/var/folders/h9/78d8y54s1094rhy0vxgr6w400000gn/T/ipykernel_30216/3635571694.py:12: FutureWarning: The behavior of value_counts with object-dtype is deprecated. In a future version, this will *not* perform dtype inference on the resulting index. To retain the old behavior, use `result.index = result.index.infer_objects()`\n",
      "  print('Describe:\\n', df.describe(), '\\n')\n"
     ]
    }
   ],
   "execution_count": 53
  },
  {
   "metadata": {
    "ExecuteTime": {
     "end_time": "2025-08-28T16:52:23.927371Z",
     "start_time": "2025-08-28T16:52:22.824545Z"
    }
   },
   "cell_type": "code",
   "source": [
    "#Converting appropriate columns to numeric type\n",
    "numeric_cols = ['Price per Unit', 'Units Sold', 'Total Sales', 'Operating Profit', 'Operating Margin']\n",
    "df[numeric_cols] = df[numeric_cols].apply(pd.to_numeric)\n",
    "\n",
    "#Converting invoice date to datetime type\n",
    "df['Invoice Date'] = pd.to_datetime(df['Invoice Date'])\n",
    "\n",
    "#Saving the cleaned dataset to data/interim\n",
    "df.to_excel(\"data/interim/adidas_sales_cleaned.xlsx\", index=False)\n",
    "\n",
    "df['Retailer'].value_counts()\n"
   ],
   "id": "c6951a073d5ba1a7",
   "outputs": [
    {
     "data": {
      "text/plain": [
       "Retailer\n",
       "Foot Locker      2637\n",
       "West Gear        2374\n",
       "Sports Direct    2032\n",
       "Kohl's           1030\n",
       "Amazon            949\n",
       "Walmart           626\n",
       "Name: count, dtype: int64"
      ]
     },
     "execution_count": 54,
     "metadata": {},
     "output_type": "execute_result"
    }
   ],
   "execution_count": 54
  },
  {
   "metadata": {
    "ExecuteTime": {
     "end_time": "2025-08-28T16:52:23.971640Z",
     "start_time": "2025-08-28T16:52:23.968215Z"
    }
   },
   "cell_type": "code",
   "source": "df['Region'].value_counts()",
   "id": "1e90f47f67fe9b79",
   "outputs": [
    {
     "data": {
      "text/plain": [
       "Region\n",
       "West         2448\n",
       "Northeast    2376\n",
       "Midwest      1872\n",
       "South        1728\n",
       "Southeast    1224\n",
       "Name: count, dtype: int64"
      ]
     },
     "execution_count": 55,
     "metadata": {},
     "output_type": "execute_result"
    }
   ],
   "execution_count": 55
  }
 ],
 "metadata": {
  "kernelspec": {
   "display_name": "Python 3",
   "language": "python",
   "name": "python3"
  },
  "language_info": {
   "codemirror_mode": {
    "name": "ipython",
    "version": 2
   },
   "file_extension": ".py",
   "mimetype": "text/x-python",
   "name": "python",
   "nbconvert_exporter": "python",
   "pygments_lexer": "ipython2",
   "version": "2.7.6"
  }
 },
 "nbformat": 4,
 "nbformat_minor": 5
}
